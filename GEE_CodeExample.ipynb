{
  "nbformat": 4,
  "nbformat_minor": 0,
  "metadata": {
    "colab": {
      "name": "GEE_CodeExample.ipynb",
      "provenance": [],
      "collapsed_sections": []
    },
    "kernelspec": {
      "name": "python3",
      "display_name": "Python 3"
    },
    "language_info": {
      "name": "python"
    }
  },
  "cells": [
    {
      "cell_type": "code",
      "metadata": {
        "id": "d_9JLxJjdYKy",
        "colab": {
          "base_uri": "https://localhost:8080/"
        },
        "outputId": "e63aab60-994b-4d7e-a018-5825300c1128"
      },
      "source": [
        "import numpy as np\n",
        "import matplotlib.pyplot as plt\n",
        "from IPython.display import Image\n",
        "import ee\n",
        "ee.Authenticate()\n",
        "ee.Initialize()"
      ],
      "execution_count": null,
      "outputs": [
        {
          "output_type": "stream",
          "name": "stdout",
          "text": [
            "To authorize access needed by Earth Engine, open the following URL in a web browser and follow the instructions. If the web browser does not start automatically, please manually browse the URL below.\n",
            "\n",
            "    https://accounts.google.com/o/oauth2/auth?client_id=517222506229-vsmmajv00ul0bs7p89v5m89qs8eb9359.apps.googleusercontent.com&scope=https%3A%2F%2Fwww.googleapis.com%2Fauth%2Fearthengine+https%3A%2F%2Fwww.googleapis.com%2Fauth%2Fdevstorage.full_control&redirect_uri=urn%3Aietf%3Awg%3Aoauth%3A2.0%3Aoob&response_type=code&code_challenge=6NPJ0MyU47P-XhP9asnamDwBaKPY-1PlSp_Iv6F_DLE&code_challenge_method=S256\n",
            "\n",
            "The authorization workflow will generate a code, which you should paste in the box below. \n",
            "Enter verification code: 4/1AX4XfWilW9NceWjGYR4B6USpZW9IkpkhE6AAZFKli-5BiuOBFCgLwKHS2gE\n",
            "\n",
            "Successfully saved authorization token.\n"
          ]
        }
      ]
    },
    {
      "cell_type": "code",
      "metadata": {
        "id": "D3bqE98Cdezi",
        "cellView": "form"
      },
      "source": [
        "#@title def hist2otsu\n",
        "###############################################################################\n",
        "#####                           hist2otsu                                 #####\n",
        "#####                        Evan Lahr, 2021                              #####\n",
        "#####         Compute an Ostu threshold using only histogram data         #####\n",
        "#####         Similar to MATLAB function 'otsuthresh' (link below)        #####\n",
        "#####       https://www.mathworks.com/help/images/ref/otsuthresh.html     #####\n",
        "#####                                                                     #####\n",
        "#####   INPUT DATA must be a 2-column array of histogram information      #####\n",
        "#####       COLUMN 1 must be the LOWER BIN EDGES of the histogram         #####\n",
        "#####       COLUMN 2 must be the NORMALIZED COUNTS of the histogram       #####\n",
        "##### OUTPUT is the otsu threshold value (thresh min intraclass variance) #####\n",
        "###############################################################################\n",
        "\n",
        "\n",
        "def hist2otsu(hist):\n",
        "    bins    = np.array([item[0] for item in hist])\n",
        "    counts  = np.array([item[1] for item in hist])\n",
        "    binstep = bins[1] - bins[0]\n",
        "    midpts  = np.array([x+(binstep/2) for x in bins])\n",
        "\n",
        "    total_weight   = sum(counts)\n",
        "    least_variance = -1\n",
        "    least_variance_threshold = -1\n",
        "    \n",
        "    #create an array of all possible threshold values to loop through\n",
        "    thresholds = np.arange(np.min(bins), np.max(bins), binstep)\n",
        "\n",
        "    #loop through thresholds to find the minimum intraclass class variance\n",
        "    for i in thresholds:\n",
        "        bg_midpts = midpts[bins <= i]\n",
        "        bg_counts = counts[bins <= i]\n",
        "        if sum(bg_counts) == 0:\n",
        "          continue\n",
        "        weight_bg = sum(bg_counts) / total_weight\n",
        "        mean_bg = np.average(bg_midpts, weights=bg_counts)\n",
        "        variance_bg = np.average((bg_midpts - mean_bg)**2, weights=bg_counts)\n",
        "\n",
        "        fg_midpts = midpts[bins > i]\n",
        "        fg_counts = counts[bins > i]\n",
        "        if sum(fg_counts) == 0:\n",
        "           continue\n",
        "        weight_fg = sum(fg_counts) / total_weight\n",
        "        mean_fg = np.average(fg_midpts, weights=fg_counts)\n",
        "        variance_fg = np.average((fg_midpts - mean_fg)**2, weights=fg_counts)\n",
        "\n",
        "        within_class_variance = weight_fg*variance_fg + weight_bg*variance_bg\n",
        "        if least_variance == -1 or least_variance > within_class_variance:\n",
        "            least_variance = within_class_variance\n",
        "            least_variance_threshold = i\n",
        "            #print(\"var:\", within_class_variance, \"  thresh:\", i)\n",
        "    return least_variance_threshold"
      ],
      "execution_count": 51,
      "outputs": []
    },
    {
      "cell_type": "code",
      "metadata": {
        "id": "Hv9u-8QPhv2Q"
      },
      "source": [
        "#define a region of interest\n",
        "roi = ee.Geometry.Rectangle([90, 21.9, 91.3, 22.7]);       \n",
        "#generate a Landsat 8 surface reflectance image object\n",
        "my_image = ee.ImageCollection('LANDSAT/LC08/C01/T1_SR')\\\n",
        "  .filterBounds(roi)\\\n",
        "  .filterDate('2020-01-01', '2020-12-31')\\\n",
        "  .reduce(ee.Reducer.median())\n",
        "my_image = my_image.clip(roi) \n",
        "#calculate ndwi\n",
        "ndwi=(my_image.select('B4_median').subtract(my_image.select('B7_median'))\n",
        "    .divide(my_image.select('B4_median').add(my_image.select('B7_median'))))"
      ],
      "execution_count": 52,
      "outputs": []
    },
    {
      "cell_type": "code",
      "metadata": {
        "colab": {
          "base_uri": "https://localhost:8080/",
          "height": 373
        },
        "id": "KR2GLE3TpQLz",
        "outputId": "81524d5a-1ee3-4a07-c846-a6bf2e10fe97"
      },
      "source": [
        "# Plot the NDWI image\n",
        "url = ndwi.getThumbUrl({\n",
        "    'min': 0, 'max': 1, 'dimensions': 512, 'region': roi,\n",
        "    'palette': ['black', 'white']})\n",
        "print('\\nPlease wait while the thumbnail loads...')\n",
        "Image(url=url)"
      ],
      "execution_count": 53,
      "outputs": [
        {
          "output_type": "stream",
          "name": "stdout",
          "text": [
            "\n",
            "Please wait while the thumbnail loads...\n"
          ]
        },
        {
          "output_type": "execute_result",
          "data": {
            "text/html": [
              "<img src=\"https://earthengine.googleapis.com/v1alpha/projects/earthengine-legacy/thumbnails/a40be121bd337371f2374651572c93f6-b4065b817d1c7e14ad25ec05ac166e97:getPixels\"/>"
            ],
            "text/plain": [
              "<IPython.core.display.Image object>"
            ]
          },
          "metadata": {},
          "execution_count": 53
        }
      ]
    },
    {
      "cell_type": "code",
      "source": [
        "#retrieve the ndwi histogram from the image, calculate the Otsu threshold\n",
        "hist = np.array(ndwi.select('B4_median').reduceRegion(ee.Reducer.fixedHistogram(0, 1, 50), roi, scale=3000).get('B4_median').getInfo())\n",
        "thresh = hist2otsu(hist)\n",
        "\n",
        "#plot the histogram and computed Otsu threshold\n",
        "a = np.array(hist)\n",
        "bins = a[:, 0]\n",
        "normalized_counts = a[:, 1]/np.sum(a[:, 1])\n",
        "plt.grid()\n",
        "plt.plot(bins, normalized_counts, '.')\n",
        "plt.title('NDWI pixel histogram')\n",
        "plt.ylabel('Normalized counts')\n",
        "plt.xlabel('NDWI value')\n",
        "plt.axvline(thresh)\n",
        "plt.show()"
      ],
      "metadata": {
        "colab": {
          "base_uri": "https://localhost:8080/",
          "height": 295
        },
        "id": "PzBJzRnPahbC",
        "outputId": "a830b76e-f9a6-44b4-d8d2-ee8cf1c0c558"
      },
      "execution_count": 54,
      "outputs": [
        {
          "output_type": "display_data",
          "data": {
            "image/png": "[encoded data removed]",
            "text/plain": [
              "<Figure size 432x288 with 1 Axes>"
            ]
          },
          "metadata": {
            "needs_background": "light"
          }
        }
      ]
    },
    {
      "cell_type": "code",
      "source": [
        "# Plot the thresholded image\n",
        "url = binary.getThumbUrl({\n",
        "    'min': 0, 'max': 1, 'dimensions': 512, 'region': roi,\n",
        "    'palette': ['black', 'white']})\n",
        "print('\\nPlease wait while the thumbnail loads...')\n",
        "Image(url=url)"
      ],
      "metadata": {
        "colab": {
          "base_uri": "https://localhost:8080/",
          "height": 373
        },
        "id": "v9D2TSd8jD4h",
        "outputId": "192dab35-214e-439d-e9f1-f8bf03315acd"
      },
      "execution_count": 55,
      "outputs": [
        {
          "output_type": "stream",
          "name": "stdout",
          "text": [
            "\n",
            "Please wait while the thumbnail loads...\n"
          ]
        },
        {
          "output_type": "execute_result",
          "data": {
            "text/html": [
              "<img src=\"https://earthengine.googleapis.com/v1alpha/projects/earthengine-legacy/thumbnails/f830334e0257ce44830cf3ec63f7f3d0-386c245427d0feb0d64282617babef15:getPixels\"/>"
            ],
            "text/plain": [
              "<IPython.core.display.Image object>"
            ]
          },
          "metadata": {},
          "execution_count": 55
        }
      ]
    }
  ]
}